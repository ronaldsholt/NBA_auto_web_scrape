{
 "cells": [
  {
   "cell_type": "code",
   "execution_count": 113,
   "metadata": {
    "collapsed": true
   },
   "outputs": [],
   "source": [
    "from bs4 import BeautifulSoup as bs\n",
    "import urllib\n",
    "import pandas as pd\n",
    "from selenium import webdriver"
   ]
  },
  {
   "cell_type": "code",
   "execution_count": 45,
   "metadata": {},
   "outputs": [
    {
     "data": {
      "text/plain": [
       "u'/Users/ronaldholt/dfs_stored_db'"
      ]
     },
     "execution_count": 45,
     "metadata": {},
     "output_type": "execute_result"
    }
   ],
   "source": [
    "%pwd"
   ]
  },
  {
   "cell_type": "code",
   "execution_count": 52,
   "metadata": {
    "collapsed": true
   },
   "outputs": [],
   "source": []
  },
  {
   "cell_type": "code",
   "execution_count": 101,
   "metadata": {
    "collapsed": true
   },
   "outputs": [],
   "source": [
    "#path to chrome webdriver... must import / download\n",
    "driver = webdriver.Chrome('/Users/ronaldholt/Downloads/chromedriver')"
   ]
  },
  {
   "cell_type": "code",
   "execution_count": null,
   "metadata": {
    "collapsed": true
   },
   "outputs": [],
   "source": []
  },
  {
   "cell_type": "code",
   "execution_count": 102,
   "metadata": {
    "collapsed": true
   },
   "outputs": [],
   "source": [
    "#1\n",
    "driver.get('https://www.fantasycruncher.com/lineup-rewind/draftkings/NBA/2018-01-15')\n",
    "#2 - close alert\n",
    "#3\n",
    "#elem1 = driver.find_element_by_link_text(\"copy player list\")\n",
    "# 4\n",
    "#elem1.click()"
   ]
  },
  {
   "cell_type": "code",
   "execution_count": 93,
   "metadata": {
    "collapsed": true
   },
   "outputs": [],
   "source": []
  },
  {
   "cell_type": "code",
   "execution_count": 103,
   "metadata": {
    "collapsed": true
   },
   "outputs": [],
   "source": [
    "### A pop-up will appear and suggest for you to close it ###\n",
    "close_login = driver.find_element_by_class_name(\"close-login-alert\")\n",
    "close_login.click()"
   ]
  },
  {
   "cell_type": "code",
   "execution_count": 104,
   "metadata": {
    "collapsed": true
   },
   "outputs": [],
   "source": [
    "### we need to gather all players from the drop down...\n",
    "## Use dev tools in chrome; find element name and find value to select... \n",
    "# then run code below\n",
    "from selenium.webdriver.support.ui import Select\n",
    "select = Select(driver.find_element_by_name('ff_length'))\n",
    "select.select_by_value('-1')"
   ]
  },
  {
   "cell_type": "code",
   "execution_count": 105,
   "metadata": {
    "collapsed": true
   },
   "outputs": [],
   "source": [
    "### This code \"clicks\" copy player list - this copies player data to the os clipboard\n",
    "elem1 = driver.find_element_by_link_text(\"copy player list\")\n",
    "elem1.click()"
   ]
  },
  {
   "cell_type": "code",
   "execution_count": 106,
   "metadata": {
    "collapsed": true
   },
   "outputs": [],
   "source": [
    "### Closes pop-up that confirms copied player list\n",
    "close_copy = driver.find_element_by_class_name(\"sa-confirm-button-container\")\n",
    "close_copy.click()"
   ]
  },
  {
   "cell_type": "code",
   "execution_count": null,
   "metadata": {
    "collapsed": true
   },
   "outputs": [],
   "source": []
  },
  {
   "cell_type": "code",
   "execution_count": 107,
   "metadata": {
    "collapsed": true
   },
   "outputs": [],
   "source": [
    "df2 = pd.read_clipboard()"
   ]
  },
  {
   "cell_type": "code",
   "execution_count": null,
   "metadata": {
    "collapsed": true
   },
   "outputs": [],
   "source": [
    "df2.to_csv()"
   ]
  },
  {
   "cell_type": "code",
   "execution_count": 72,
   "metadata": {},
   "outputs": [
    {
     "name": "stdout",
     "output_type": "stream",
     "text": [
      "None\n"
     ]
    }
   ],
   "source": []
  },
  {
   "cell_type": "code",
   "execution_count": 116,
   "metadata": {
    "collapsed": true
   },
   "outputs": [],
   "source": [
    "base_url = \"https://www.fantasycruncher.com/lineup-rewind/draftkings/NBA/DATE\""
   ]
  },
  {
   "cell_type": "code",
   "execution_count": 121,
   "metadata": {},
   "outputs": [
    {
     "data": {
      "text/plain": [
       "'https://www.fantasycruncher.com/lineup-rewind/draftkings/NBA/2018-01-01'"
      ]
     },
     "execution_count": 121,
     "metadata": {},
     "output_type": "execute_result"
    }
   ],
   "source": [
    "DT = '2018-01-01'\n",
    "base_url.replace(\"DATE\", DT)"
   ]
  },
  {
   "cell_type": "code",
   "execution_count": 130,
   "metadata": {},
   "outputs": [
    {
     "name": "stdout",
     "output_type": "stream",
     "text": [
      "2018-01-01\n",
      "https://www.fantasycruncher.com/lineup-rewind/draftkings/NBA/2018-01-01\n",
      "2018-01-02\n",
      "https://www.fantasycruncher.com/lineup-rewind/draftkings/NBA/2018-01-02\n",
      "2018-01-03\n",
      "https://www.fantasycruncher.com/lineup-rewind/draftkings/NBA/2018-01-03\n"
     ]
    }
   ],
   "source": [
    "from datetime import timedelta, date\n",
    "\n",
    "def daterange(start_date, end_date):\n",
    "    for n in range(int ((end_date - start_date).days)):\n",
    "        yield start_date + timedelta(n)\n",
    "\n",
    "start_date = date(2018, 1, 1)\n",
    "end_date = date(2018, 1, 4)\n",
    "for single_date in daterange(start_date, end_date):\n",
    "    print single_date.strftime(\"%Y-%m-%d\") #gives the proper date format\n",
    "    print base_url.replace(\"DATE\", single_date.strftime(\"%Y-%m-%d\")) #inserts into the DATE of the url \n"
   ]
  },
  {
   "cell_type": "code",
   "execution_count": 131,
   "metadata": {},
   "outputs": [
    {
     "data": {
      "text/plain": [
       "u'/Users/ronaldholt/dfs_stored_db'"
      ]
     },
     "execution_count": 131,
     "metadata": {},
     "output_type": "execute_result"
    }
   ],
   "source": [
    "%pwd"
   ]
  },
  {
   "cell_type": "code",
   "execution_count": 132,
   "metadata": {},
   "outputs": [
    {
     "name": "stdout",
     "output_type": "stream",
     "text": [
      "/Users/ronaldholt/dfs_stored_db/data\n"
     ]
    }
   ],
   "source": [
    "cd data/\n"
   ]
  },
  {
   "cell_type": "code",
   "execution_count": 144,
   "metadata": {
    "collapsed": true
   },
   "outputs": [],
   "source": [
    "df = pd.read_csv('2017-11-14', skiprows=[0], header=None)"
   ]
  },
  {
   "cell_type": "code",
   "execution_count": 145,
   "metadata": {},
   "outputs": [
    {
     "data": {
      "text/html": [
       "<div>\n",
       "<style>\n",
       "    .dataframe thead tr:only-child th {\n",
       "        text-align: right;\n",
       "    }\n",
       "\n",
       "    .dataframe thead th {\n",
       "        text-align: left;\n",
       "    }\n",
       "\n",
       "    .dataframe tbody tr th {\n",
       "        vertical-align: top;\n",
       "    }\n",
       "</style>\n",
       "<table border=\"1\" class=\"dataframe\">\n",
       "  <thead>\n",
       "    <tr style=\"text-align: right;\">\n",
       "      <th></th>\n",
       "      <th>0</th>\n",
       "      <th>1</th>\n",
       "      <th>2</th>\n",
       "      <th>3</th>\n",
       "      <th>4</th>\n",
       "      <th>5</th>\n",
       "      <th>6</th>\n",
       "      <th>7</th>\n",
       "      <th>8</th>\n",
       "      <th>9</th>\n",
       "      <th>...</th>\n",
       "      <th>14</th>\n",
       "      <th>15</th>\n",
       "      <th>16</th>\n",
       "      <th>17</th>\n",
       "      <th>18</th>\n",
       "      <th>19</th>\n",
       "      <th>20</th>\n",
       "      <th>21</th>\n",
       "      <th>22</th>\n",
       "      <th>23</th>\n",
       "    </tr>\n",
       "  </thead>\n",
       "  <tbody>\n",
       "    <tr>\n",
       "      <th>0</th>\n",
       "      <td>0</td>\n",
       "      <td>James Harden</td>\n",
       "      <td>PG/SG</td>\n",
       "      <td>HOU</td>\n",
       "      <td>vs TOR</td>\n",
       "      <td>7th</td>\n",
       "      <td>112.25</td>\n",
       "      <td>12300</td>\n",
       "      <td>40.3</td>\n",
       "      <td>85.5</td>\n",
       "      <td>...</td>\n",
       "      <td>35.5</td>\n",
       "      <td>35.82</td>\n",
       "      <td>59.68</td>\n",
       "      <td>59.68</td>\n",
       "      <td>100</td>\n",
       "      <td>77</td>\n",
       "      <td>4.9</td>\n",
       "      <td>39.0</td>\n",
       "      <td>62.50</td>\n",
       "      <td>5.1</td>\n",
       "    </tr>\n",
       "    <tr>\n",
       "      <th>1</th>\n",
       "      <td>1</td>\n",
       "      <td>LaMarcus Aldridge</td>\n",
       "      <td>PF/C</td>\n",
       "      <td>SAS</td>\n",
       "      <td>@ DAL</td>\n",
       "      <td>27th</td>\n",
       "      <td>103.00</td>\n",
       "      <td>8500</td>\n",
       "      <td>29.8</td>\n",
       "      <td>58.9</td>\n",
       "      <td>...</td>\n",
       "      <td>32.3</td>\n",
       "      <td>33.00</td>\n",
       "      <td>42.27</td>\n",
       "      <td>42.27</td>\n",
       "      <td>100</td>\n",
       "      <td>79</td>\n",
       "      <td>5.0</td>\n",
       "      <td>35.0</td>\n",
       "      <td>48.75</td>\n",
       "      <td>5.7</td>\n",
       "    </tr>\n",
       "    <tr>\n",
       "      <th>2</th>\n",
       "      <td>2</td>\n",
       "      <td>Kyrie Irving</td>\n",
       "      <td>PG</td>\n",
       "      <td>BOS</td>\n",
       "      <td>@ BKN</td>\n",
       "      <td>30th</td>\n",
       "      <td>108.00</td>\n",
       "      <td>8200</td>\n",
       "      <td>31.3</td>\n",
       "      <td>77.8</td>\n",
       "      <td>...</td>\n",
       "      <td>30.5</td>\n",
       "      <td>33.00</td>\n",
       "      <td>51.25</td>\n",
       "      <td>51.25</td>\n",
       "      <td>100</td>\n",
       "      <td>64</td>\n",
       "      <td>6.3</td>\n",
       "      <td>29.0</td>\n",
       "      <td>38.25</td>\n",
       "      <td>4.7</td>\n",
       "    </tr>\n",
       "    <tr>\n",
       "      <th>3</th>\n",
       "      <td>3</td>\n",
       "      <td>DeMar DeRozan</td>\n",
       "      <td>SG/SF</td>\n",
       "      <td>TOR</td>\n",
       "      <td>@ HOU</td>\n",
       "      <td>23rd</td>\n",
       "      <td>106.25</td>\n",
       "      <td>8000</td>\n",
       "      <td>24.4</td>\n",
       "      <td>56.9</td>\n",
       "      <td>...</td>\n",
       "      <td>34.1</td>\n",
       "      <td>35.45</td>\n",
       "      <td>38.33</td>\n",
       "      <td>38.33</td>\n",
       "      <td>100</td>\n",
       "      <td>75</td>\n",
       "      <td>4.8</td>\n",
       "      <td>33.0</td>\n",
       "      <td>42.50</td>\n",
       "      <td>5.3</td>\n",
       "    </tr>\n",
       "    <tr>\n",
       "      <th>4</th>\n",
       "      <td>4</td>\n",
       "      <td>Kyle Lowry</td>\n",
       "      <td>PG</td>\n",
       "      <td>TOR</td>\n",
       "      <td>@ HOU</td>\n",
       "      <td>2nd</td>\n",
       "      <td>106.25</td>\n",
       "      <td>7700</td>\n",
       "      <td>9.5</td>\n",
       "      <td>50.9</td>\n",
       "      <td>...</td>\n",
       "      <td>30.6</td>\n",
       "      <td>29.04</td>\n",
       "      <td>27.21</td>\n",
       "      <td>27.21</td>\n",
       "      <td>100</td>\n",
       "      <td>62</td>\n",
       "      <td>3.5</td>\n",
       "      <td>37.0</td>\n",
       "      <td>43.75</td>\n",
       "      <td>5.7</td>\n",
       "    </tr>\n",
       "  </tbody>\n",
       "</table>\n",
       "<p>5 rows × 24 columns</p>\n",
       "</div>"
      ],
      "text/plain": [
       "   0                  1      2    3       4     5       6      7     8     9   \\\n",
       "0   0       James Harden  PG/SG  HOU  vs TOR   7th  112.25  12300  40.3  85.5   \n",
       "1   1  LaMarcus Aldridge   PF/C  SAS   @ DAL  27th  103.00   8500  29.8  58.9   \n",
       "2   2       Kyrie Irving     PG  BOS   @ BKN  30th  108.00   8200  31.3  77.8   \n",
       "3   3      DeMar DeRozan  SG/SF  TOR   @ HOU  23rd  106.25   8000  24.4  56.9   \n",
       "4   4         Kyle Lowry     PG  TOR   @ HOU   2nd  106.25   7700   9.5  50.9   \n",
       "\n",
       "  ...     14     15     16     17   18  19   20    21     22   23  \n",
       "0 ...   35.5  35.82  59.68  59.68  100  77  4.9  39.0  62.50  5.1  \n",
       "1 ...   32.3  33.00  42.27  42.27  100  79  5.0  35.0  48.75  5.7  \n",
       "2 ...   30.5  33.00  51.25  51.25  100  64  6.3  29.0  38.25  4.7  \n",
       "3 ...   34.1  35.45  38.33  38.33  100  75  4.8  33.0  42.50  5.3  \n",
       "4 ...   30.6  29.04  27.21  27.21  100  62  3.5  37.0  43.75  5.7  \n",
       "\n",
       "[5 rows x 24 columns]"
      ]
     },
     "execution_count": 145,
     "metadata": {},
     "output_type": "execute_result"
    }
   ],
   "source": [
    "df.head()"
   ]
  },
  {
   "cell_type": "code",
   "execution_count": 139,
   "metadata": {
    "collapsed": true
   },
   "outputs": [],
   "source": [
    "df = pd.read_csv('2017-11-15')"
   ]
  },
  {
   "cell_type": "code",
   "execution_count": 142,
   "metadata": {
    "collapsed": true
   },
   "outputs": [],
   "source": [
    "col_names = df.columns"
   ]
  },
  {
   "cell_type": "code",
   "execution_count": 146,
   "metadata": {
    "collapsed": true
   },
   "outputs": [],
   "source": [
    "df.columns = col_names"
   ]
  },
  {
   "cell_type": "code",
   "execution_count": 147,
   "metadata": {},
   "outputs": [
    {
     "data": {
      "text/html": [
       "<div>\n",
       "<style>\n",
       "    .dataframe thead tr:only-child th {\n",
       "        text-align: right;\n",
       "    }\n",
       "\n",
       "    .dataframe thead th {\n",
       "        text-align: left;\n",
       "    }\n",
       "\n",
       "    .dataframe tbody tr th {\n",
       "        vertical-align: top;\n",
       "    }\n",
       "</style>\n",
       "<table border=\"1\" class=\"dataframe\">\n",
       "  <thead>\n",
       "    <tr style=\"text-align: right;\">\n",
       "      <th></th>\n",
       "      <th>Unnamed: 0</th>\n",
       "      <th>Player</th>\n",
       "      <th>Pos</th>\n",
       "      <th>Team</th>\n",
       "      <th>Opp</th>\n",
       "      <th>Def v Pos</th>\n",
       "      <th>VegasPts</th>\n",
       "      <th>Salary</th>\n",
       "      <th>Floor</th>\n",
       "      <th>Ceiling</th>\n",
       "      <th>...</th>\n",
       "      <th>MPG</th>\n",
       "      <th>Proj Mins</th>\n",
       "      <th>FC Proj</th>\n",
       "      <th>My Proj</th>\n",
       "      <th>Exposure</th>\n",
       "      <th>Con.</th>\n",
       "      <th>Value</th>\n",
       "      <th>Mins</th>\n",
       "      <th>Score</th>\n",
       "      <th>Val</th>\n",
       "    </tr>\n",
       "  </thead>\n",
       "  <tbody>\n",
       "    <tr>\n",
       "      <th>0</th>\n",
       "      <td>0</td>\n",
       "      <td>James Harden</td>\n",
       "      <td>PG/SG</td>\n",
       "      <td>HOU</td>\n",
       "      <td>vs TOR</td>\n",
       "      <td>7th</td>\n",
       "      <td>112.25</td>\n",
       "      <td>12300</td>\n",
       "      <td>40.3</td>\n",
       "      <td>85.5</td>\n",
       "      <td>...</td>\n",
       "      <td>35.5</td>\n",
       "      <td>35.82</td>\n",
       "      <td>59.68</td>\n",
       "      <td>59.68</td>\n",
       "      <td>100</td>\n",
       "      <td>77</td>\n",
       "      <td>4.9</td>\n",
       "      <td>39.0</td>\n",
       "      <td>62.50</td>\n",
       "      <td>5.1</td>\n",
       "    </tr>\n",
       "    <tr>\n",
       "      <th>1</th>\n",
       "      <td>1</td>\n",
       "      <td>LaMarcus Aldridge</td>\n",
       "      <td>PF/C</td>\n",
       "      <td>SAS</td>\n",
       "      <td>@ DAL</td>\n",
       "      <td>27th</td>\n",
       "      <td>103.00</td>\n",
       "      <td>8500</td>\n",
       "      <td>29.8</td>\n",
       "      <td>58.9</td>\n",
       "      <td>...</td>\n",
       "      <td>32.3</td>\n",
       "      <td>33.00</td>\n",
       "      <td>42.27</td>\n",
       "      <td>42.27</td>\n",
       "      <td>100</td>\n",
       "      <td>79</td>\n",
       "      <td>5.0</td>\n",
       "      <td>35.0</td>\n",
       "      <td>48.75</td>\n",
       "      <td>5.7</td>\n",
       "    </tr>\n",
       "    <tr>\n",
       "      <th>2</th>\n",
       "      <td>2</td>\n",
       "      <td>Kyrie Irving</td>\n",
       "      <td>PG</td>\n",
       "      <td>BOS</td>\n",
       "      <td>@ BKN</td>\n",
       "      <td>30th</td>\n",
       "      <td>108.00</td>\n",
       "      <td>8200</td>\n",
       "      <td>31.3</td>\n",
       "      <td>77.8</td>\n",
       "      <td>...</td>\n",
       "      <td>30.5</td>\n",
       "      <td>33.00</td>\n",
       "      <td>51.25</td>\n",
       "      <td>51.25</td>\n",
       "      <td>100</td>\n",
       "      <td>64</td>\n",
       "      <td>6.3</td>\n",
       "      <td>29.0</td>\n",
       "      <td>38.25</td>\n",
       "      <td>4.7</td>\n",
       "    </tr>\n",
       "    <tr>\n",
       "      <th>3</th>\n",
       "      <td>3</td>\n",
       "      <td>DeMar DeRozan</td>\n",
       "      <td>SG/SF</td>\n",
       "      <td>TOR</td>\n",
       "      <td>@ HOU</td>\n",
       "      <td>23rd</td>\n",
       "      <td>106.25</td>\n",
       "      <td>8000</td>\n",
       "      <td>24.4</td>\n",
       "      <td>56.9</td>\n",
       "      <td>...</td>\n",
       "      <td>34.1</td>\n",
       "      <td>35.45</td>\n",
       "      <td>38.33</td>\n",
       "      <td>38.33</td>\n",
       "      <td>100</td>\n",
       "      <td>75</td>\n",
       "      <td>4.8</td>\n",
       "      <td>33.0</td>\n",
       "      <td>42.50</td>\n",
       "      <td>5.3</td>\n",
       "    </tr>\n",
       "    <tr>\n",
       "      <th>4</th>\n",
       "      <td>4</td>\n",
       "      <td>Kyle Lowry</td>\n",
       "      <td>PG</td>\n",
       "      <td>TOR</td>\n",
       "      <td>@ HOU</td>\n",
       "      <td>2nd</td>\n",
       "      <td>106.25</td>\n",
       "      <td>7700</td>\n",
       "      <td>9.5</td>\n",
       "      <td>50.9</td>\n",
       "      <td>...</td>\n",
       "      <td>30.6</td>\n",
       "      <td>29.04</td>\n",
       "      <td>27.21</td>\n",
       "      <td>27.21</td>\n",
       "      <td>100</td>\n",
       "      <td>62</td>\n",
       "      <td>3.5</td>\n",
       "      <td>37.0</td>\n",
       "      <td>43.75</td>\n",
       "      <td>5.7</td>\n",
       "    </tr>\n",
       "  </tbody>\n",
       "</table>\n",
       "<p>5 rows × 24 columns</p>\n",
       "</div>"
      ],
      "text/plain": [
       "   Unnamed: 0             Player    Pos Team     Opp Def v Pos  VegasPts  \\\n",
       "0           0       James Harden  PG/SG  HOU  vs TOR       7th    112.25   \n",
       "1           1  LaMarcus Aldridge   PF/C  SAS   @ DAL      27th    103.00   \n",
       "2           2       Kyrie Irving     PG  BOS   @ BKN      30th    108.00   \n",
       "3           3      DeMar DeRozan  SG/SF  TOR   @ HOU      23rd    106.25   \n",
       "4           4         Kyle Lowry     PG  TOR   @ HOU       2nd    106.25   \n",
       "\n",
       "   Salary  Floor  Ceiling ...    MPG  Proj Mins  FC Proj  My Proj  Exposure  \\\n",
       "0   12300   40.3     85.5 ...   35.5      35.82    59.68    59.68       100   \n",
       "1    8500   29.8     58.9 ...   32.3      33.00    42.27    42.27       100   \n",
       "2    8200   31.3     77.8 ...   30.5      33.00    51.25    51.25       100   \n",
       "3    8000   24.4     56.9 ...   34.1      35.45    38.33    38.33       100   \n",
       "4    7700    9.5     50.9 ...   30.6      29.04    27.21    27.21       100   \n",
       "\n",
       "   Con.  Value  Mins  Score  Val  \n",
       "0    77    4.9  39.0  62.50  5.1  \n",
       "1    79    5.0  35.0  48.75  5.7  \n",
       "2    64    6.3  29.0  38.25  4.7  \n",
       "3    75    4.8  33.0  42.50  5.3  \n",
       "4    62    3.5  37.0  43.75  5.7  \n",
       "\n",
       "[5 rows x 24 columns]"
      ]
     },
     "execution_count": 147,
     "metadata": {},
     "output_type": "execute_result"
    }
   ],
   "source": [
    "df.head()"
   ]
  },
  {
   "cell_type": "code",
   "execution_count": 155,
   "metadata": {
    "collapsed": true
   },
   "outputs": [],
   "source": [
    "import glob\n",
    "path = %pwd                    # use your path\n",
    "all_files = glob.glob(os.path.join(path, \"*\"))     # advisable to use os.path.join as this makes concatenation OS independent\n",
    "\n",
    "df_from_each_file = (pd.read_csv(f, skiprows=[0], header=None) for f in all_files)\n",
    "concatenated_df   = pd.concat(df_from_each_file, ignore_index=True)"
   ]
  },
  {
   "cell_type": "code",
   "execution_count": 158,
   "metadata": {
    "collapsed": true
   },
   "outputs": [],
   "source": [
    "concatenated_df.columns = col_names"
   ]
  },
  {
   "cell_type": "code",
   "execution_count": 159,
   "metadata": {},
   "outputs": [
    {
     "data": {
      "text/html": [
       "<div>\n",
       "<style>\n",
       "    .dataframe thead tr:only-child th {\n",
       "        text-align: right;\n",
       "    }\n",
       "\n",
       "    .dataframe thead th {\n",
       "        text-align: left;\n",
       "    }\n",
       "\n",
       "    .dataframe tbody tr th {\n",
       "        vertical-align: top;\n",
       "    }\n",
       "</style>\n",
       "<table border=\"1\" class=\"dataframe\">\n",
       "  <thead>\n",
       "    <tr style=\"text-align: right;\">\n",
       "      <th></th>\n",
       "      <th>Unnamed: 0</th>\n",
       "      <th>Player</th>\n",
       "      <th>Pos</th>\n",
       "      <th>Team</th>\n",
       "      <th>Opp</th>\n",
       "      <th>Def v Pos</th>\n",
       "      <th>VegasPts</th>\n",
       "      <th>Salary</th>\n",
       "      <th>Floor</th>\n",
       "      <th>Ceiling</th>\n",
       "      <th>...</th>\n",
       "      <th>MPG</th>\n",
       "      <th>Proj Mins</th>\n",
       "      <th>FC Proj</th>\n",
       "      <th>My Proj</th>\n",
       "      <th>Exposure</th>\n",
       "      <th>Con.</th>\n",
       "      <th>Value</th>\n",
       "      <th>Mins</th>\n",
       "      <th>Score</th>\n",
       "      <th>Val</th>\n",
       "    </tr>\n",
       "  </thead>\n",
       "  <tbody>\n",
       "    <tr>\n",
       "      <th>0</th>\n",
       "      <td>0</td>\n",
       "      <td>Giannis Antetokounmpo</td>\n",
       "      <td>PG/SF</td>\n",
       "      <td>MIL</td>\n",
       "      <td>@ CHA</td>\n",
       "      <td>21st</td>\n",
       "      <td>99.50</td>\n",
       "      <td>12000</td>\n",
       "      <td>37.3</td>\n",
       "      <td>61.7</td>\n",
       "      <td>...</td>\n",
       "      <td>36.9</td>\n",
       "      <td>36.00</td>\n",
       "      <td>47.77</td>\n",
       "      <td>47.77</td>\n",
       "      <td>100</td>\n",
       "      <td>88</td>\n",
       "      <td>4.0</td>\n",
       "      <td>31.0</td>\n",
       "      <td>45.75</td>\n",
       "      <td>3.8</td>\n",
       "    </tr>\n",
       "    <tr>\n",
       "      <th>1</th>\n",
       "      <td>1</td>\n",
       "      <td>DeMarcus Cousins</td>\n",
       "      <td>PF/C</td>\n",
       "      <td>NOP</td>\n",
       "      <td>vs MIN</td>\n",
       "      <td>30th</td>\n",
       "      <td>113.00</td>\n",
       "      <td>11400</td>\n",
       "      <td>46.6</td>\n",
       "      <td>88.6</td>\n",
       "      <td>...</td>\n",
       "      <td>36.6</td>\n",
       "      <td>38.52</td>\n",
       "      <td>64.64</td>\n",
       "      <td>64.64</td>\n",
       "      <td>100</td>\n",
       "      <td>81</td>\n",
       "      <td>5.7</td>\n",
       "      <td>40.0</td>\n",
       "      <td>71.75</td>\n",
       "      <td>6.3</td>\n",
       "    </tr>\n",
       "    <tr>\n",
       "      <th>2</th>\n",
       "      <td>2</td>\n",
       "      <td>Anthony Davis</td>\n",
       "      <td>PF/C</td>\n",
       "      <td>NOP</td>\n",
       "      <td>vs MIN</td>\n",
       "      <td>13th</td>\n",
       "      <td>113.00</td>\n",
       "      <td>11200</td>\n",
       "      <td>22.9</td>\n",
       "      <td>99.5</td>\n",
       "      <td>...</td>\n",
       "      <td>33.5</td>\n",
       "      <td>37.24</td>\n",
       "      <td>55.71</td>\n",
       "      <td>55.71</td>\n",
       "      <td>100</td>\n",
       "      <td>59</td>\n",
       "      <td>5.0</td>\n",
       "      <td>43.0</td>\n",
       "      <td>54.00</td>\n",
       "      <td>4.8</td>\n",
       "    </tr>\n",
       "    <tr>\n",
       "      <th>3</th>\n",
       "      <td>3</td>\n",
       "      <td>James Harden</td>\n",
       "      <td>PG/SG</td>\n",
       "      <td>HOU</td>\n",
       "      <td>@ NYK</td>\n",
       "      <td>16th</td>\n",
       "      <td>109.75</td>\n",
       "      <td>11000</td>\n",
       "      <td>48.0</td>\n",
       "      <td>73.0</td>\n",
       "      <td>...</td>\n",
       "      <td>35.8</td>\n",
       "      <td>37.67</td>\n",
       "      <td>58.73</td>\n",
       "      <td>58.73</td>\n",
       "      <td>100</td>\n",
       "      <td>86</td>\n",
       "      <td>5.3</td>\n",
       "      <td>34.0</td>\n",
       "      <td>50.25</td>\n",
       "      <td>4.6</td>\n",
       "    </tr>\n",
       "    <tr>\n",
       "      <th>4</th>\n",
       "      <td>4</td>\n",
       "      <td>LeBron James</td>\n",
       "      <td>SF/PF</td>\n",
       "      <td>CLE</td>\n",
       "      <td>vs IND</td>\n",
       "      <td>5th</td>\n",
       "      <td>114.50</td>\n",
       "      <td>10400</td>\n",
       "      <td>32.6</td>\n",
       "      <td>84.3</td>\n",
       "      <td>...</td>\n",
       "      <td>36.6</td>\n",
       "      <td>39.33</td>\n",
       "      <td>54.79</td>\n",
       "      <td>54.79</td>\n",
       "      <td>100</td>\n",
       "      <td>71</td>\n",
       "      <td>5.3</td>\n",
       "      <td>37.0</td>\n",
       "      <td>61.00</td>\n",
       "      <td>5.9</td>\n",
       "    </tr>\n",
       "  </tbody>\n",
       "</table>\n",
       "<p>5 rows × 24 columns</p>\n",
       "</div>"
      ],
      "text/plain": [
       "   Unnamed: 0                 Player    Pos Team     Opp Def v Pos  VegasPts  \\\n",
       "0           0  Giannis Antetokounmpo  PG/SF  MIL   @ CHA      21st     99.50   \n",
       "1           1       DeMarcus Cousins   PF/C  NOP  vs MIN      30th    113.00   \n",
       "2           2          Anthony Davis   PF/C  NOP  vs MIN      13th    113.00   \n",
       "3           3           James Harden  PG/SG  HOU   @ NYK      16th    109.75   \n",
       "4           4           LeBron James  SF/PF  CLE  vs IND       5th    114.50   \n",
       "\n",
       "   Salary  Floor  Ceiling ...    MPG  Proj Mins  FC Proj  My Proj  Exposure  \\\n",
       "0   12000   37.3     61.7 ...   36.9      36.00    47.77    47.77       100   \n",
       "1   11400   46.6     88.6 ...   36.6      38.52    64.64    64.64       100   \n",
       "2   11200   22.9     99.5 ...   33.5      37.24    55.71    55.71       100   \n",
       "3   11000   48.0     73.0 ...   35.8      37.67    58.73    58.73       100   \n",
       "4   10400   32.6     84.3 ...   36.6      39.33    54.79    54.79       100   \n",
       "\n",
       "   Con.  Value  Mins  Score  Val  \n",
       "0    88    4.0  31.0  45.75  3.8  \n",
       "1    81    5.7  40.0  71.75  6.3  \n",
       "2    59    5.0  43.0  54.00  4.8  \n",
       "3    86    5.3  34.0  50.25  4.6  \n",
       "4    71    5.3  37.0  61.00  5.9  \n",
       "\n",
       "[5 rows x 24 columns]"
      ]
     },
     "execution_count": 159,
     "metadata": {},
     "output_type": "execute_result"
    }
   ],
   "source": [
    "concatenated_df.head()"
   ]
  },
  {
   "cell_type": "code",
   "execution_count": null,
   "metadata": {
    "collapsed": true
   },
   "outputs": [],
   "source": []
  },
  {
   "cell_type": "code",
   "execution_count": null,
   "metadata": {
    "collapsed": true
   },
   "outputs": [],
   "source": []
  }
 ],
 "metadata": {
  "kernelspec": {
   "display_name": "Python 2",
   "language": "python",
   "name": "python2"
  },
  "language_info": {
   "codemirror_mode": {
    "name": "ipython",
    "version": 2
   },
   "file_extension": ".py",
   "mimetype": "text/x-python",
   "name": "python",
   "nbconvert_exporter": "python",
   "pygments_lexer": "ipython2",
   "version": "2.7.14"
  }
 },
 "nbformat": 4,
 "nbformat_minor": 2
}
